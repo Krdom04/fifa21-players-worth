{
 "cells": [
  {
   "cell_type": "code",
   "execution_count": 1,
   "id": "d4ac3022-1816-4d56-a1fb-511b3d914028",
   "metadata": {},
   "outputs": [],
   "source": [
    "#Import necessary libraries\n",
    "import numpy as np\n",
    "import pandas as pd\n",
    "import matplotlib.pyplot as plt\n",
    "from sklearn.linear_model import LinearRegression\n",
    "from sklearn.model_selection import train_test_split\n",
    "from sklearn.preprocessing import LabelEncoder\n",
    "from sklearn.metrics import mean_squared_error"
   ]
  },
  {
   "cell_type": "code",
   "execution_count": 2,
   "id": "c705d4c4-f55a-4c92-821b-16f6a0d15c58",
   "metadata": {},
   "outputs": [
    {
     "name": "stdout",
     "output_type": "stream",
     "text": [
      "<class 'pandas.core.frame.DataFrame'>\n",
      "RangeIndex: 18979 entries, 0 to 18978\n",
      "Data columns (total 66 columns):\n",
      " #   Column            Non-Null Count  Dtype \n",
      "---  ------            --------------  ----- \n",
      " 0   ID                18979 non-null  int64 \n",
      " 1   Name              18979 non-null  object\n",
      " 2   LongName          18979 non-null  object\n",
      " 3   photoUrl          18979 non-null  object\n",
      " 4   playerUrl         18979 non-null  object\n",
      " 5   Nationality       18979 non-null  object\n",
      " 6   Age               18979 non-null  int64 \n",
      " 7   OVA               18979 non-null  int64 \n",
      " 8   POT               18979 non-null  int64 \n",
      " 9   Club              18979 non-null  object\n",
      " 10  Height            18979 non-null  object\n",
      " 11  Weight            18979 non-null  object\n",
      " 12  Preferred Foot    18979 non-null  object\n",
      " 13  BOV               18979 non-null  int64 \n",
      " 14  Best Position     18979 non-null  object\n",
      " 15  Joined            18979 non-null  object\n",
      " 16  Loan Date End     1013 non-null   object\n",
      " 17  Value             18979 non-null  object\n",
      " 18  Wage              18979 non-null  object\n",
      " 19  Attacking         18979 non-null  int64 \n",
      " 20  Crossing          18979 non-null  int64 \n",
      " 21  Finishing         18979 non-null  int64 \n",
      " 22  Heading Accuracy  18979 non-null  int64 \n",
      " 23  Short Passing     18979 non-null  int64 \n",
      " 24  Volleys           18979 non-null  int64 \n",
      " 25  Skill             18979 non-null  int64 \n",
      " 26  Dribbling         18979 non-null  int64 \n",
      " 27  Curve             18979 non-null  int64 \n",
      " 28  FK Accuracy       18979 non-null  int64 \n",
      " 29  Long Passing      18979 non-null  int64 \n",
      " 30  Ball Control      18979 non-null  int64 \n",
      " 31  Movement          18979 non-null  int64 \n",
      " 32  Acceleration      18979 non-null  int64 \n",
      " 33  Sprint Speed      18979 non-null  int64 \n",
      " 34  Agility           18979 non-null  int64 \n",
      " 35  Reactions         18979 non-null  int64 \n",
      " 36  Balance           18979 non-null  int64 \n",
      " 37  Power             18979 non-null  int64 \n",
      " 38  Shot Power        18979 non-null  int64 \n",
      " 39  Jumping           18979 non-null  int64 \n",
      " 40  Stamina           18979 non-null  int64 \n",
      " 41  Strength          18979 non-null  int64 \n",
      " 42  Long Shots        18979 non-null  int64 \n",
      " 43  Mentality         18979 non-null  int64 \n",
      " 44  Aggression        18979 non-null  int64 \n",
      " 45  Interceptions     18979 non-null  int64 \n",
      " 46  Positioning       18979 non-null  int64 \n",
      " 47  Vision            18979 non-null  int64 \n",
      " 48  Penalties         18979 non-null  int64 \n",
      " 49  Composure         18979 non-null  int64 \n",
      " 50  Defending         18979 non-null  int64 \n",
      " 51  Marking           18979 non-null  int64 \n",
      " 52  Standing Tackle   18979 non-null  int64 \n",
      " 53  Sliding Tackle    18979 non-null  int64 \n",
      " 54  Goalkeeping       18979 non-null  int64 \n",
      " 55  GK Diving         18979 non-null  int64 \n",
      " 56  GK Handling       18979 non-null  int64 \n",
      " 57  GK Kicking        18979 non-null  int64 \n",
      " 58  GK Positioning    18979 non-null  int64 \n",
      " 59  GK Reflexes       18979 non-null  int64 \n",
      " 60  PAC               18979 non-null  int64 \n",
      " 61  SHO               18979 non-null  int64 \n",
      " 62  PAS               18979 non-null  int64 \n",
      " 63  DRI               18979 non-null  int64 \n",
      " 64  DEF               18979 non-null  int64 \n",
      " 65  PHY               18979 non-null  int64 \n",
      "dtypes: int64(52), object(14)\n",
      "memory usage: 9.6+ MB\n"
     ]
    }
   ],
   "source": [
    "#Import database\n",
    "fifa_df = pd.read_csv('fifa21data.csv')\n",
    "#Show features/attributes we can choose from\n",
    "fifa_df.info()\n",
    "\n",
    "#Delete columns that show photos & urls of players\n",
    "fifa_df = fifa_df.drop([\"photoUrl\",\"playerUrl\"],axis=1)\n",
    "\n",
    "# Remove rows using negation that are duplicates based on name\n",
    "fifa_df=fifa_df[~fifa_df.duplicated(subset=[\"Name\"])]"
   ]
  },
  {
   "cell_type": "code",
   "execution_count": 3,
   "id": "de610512-59ff-46c4-ba42-d49f65c3f4dc",
   "metadata": {},
   "outputs": [],
   "source": [
    "#We create a function to convert values of strings to numerical value\n",
    "def convert_to_numeric(value_str):\n",
    "    #Remove EUR symbol\n",
    "    value_str=value_str.replace('€','').replace(',','')\n",
    "    \n",
    "    #Replace prefix letter by blank, then convert it to numerical * prefix value\n",
    "    if 'K' in value_str:\n",
    "        return float(value_str.replace(\"K\",\"\")) * 1.0e3\n",
    "    elif \"M\" in value_str:\n",
    "        return float(value_str.replace('M','')) * 1.0e6\n",
    "    else:\n",
    "        return float(value_str)"
   ]
  },
  {
   "cell_type": "code",
   "execution_count": 4,
   "id": "13093be0-773c-4746-a51e-85435aceaad2",
   "metadata": {},
   "outputs": [
    {
     "name": "stdout",
     "output_type": "stream",
     "text": [
      "Table before changing prefixes:\n",
      "     Value   Wage\n",
      "0  €103.5M  €560K\n",
      "1     €63M  €220K\n",
      "2    €120M  €125K\n",
      "3    €129M  €370K\n",
      "4    €132M  €270K\n",
      "Table after changing prefixes:\n",
      "         Value      Wage\n",
      "0  103500000.0  560000.0\n",
      "1   63000000.0  220000.0\n",
      "2  120000000.0  125000.0\n",
      "3  129000000.0  370000.0\n",
      "4  132000000.0  270000.0\n"
     ]
    }
   ],
   "source": [
    "#We implement our function\n",
    "\n",
    "#To show the table we're about to change (first 5 rows)\n",
    "print(f'Table before changing prefixes:\\n{fifa_df[[\"Value\",\"Wage\"]].head(5)}')\n",
    "\n",
    "#We convert the features to numerical that are subject to prefix problems\n",
    "fifa_df[\"Wage\"]=fifa_df[\"Wage\"].apply(convert_to_numeric)\n",
    "fifa_df[\"Value\"]=fifa_df[\"Value\"].apply(convert_to_numeric)\n",
    "\n",
    "#Get table to see how everything has changed\n",
    "print(f'Table after changing prefixes:\\n{fifa_df[[\"Value\",\"Wage\"]].head(5)}')"
   ]
  },
  {
   "cell_type": "code",
   "execution_count": 5,
   "id": "63d8b045-df98-4f62-b853-4787475e595a",
   "metadata": {},
   "outputs": [
    {
     "name": "stdout",
     "output_type": "stream",
     "text": [
      "   OVA  POT  Age Nationality  Nat_label\n",
      "0   93   93   33   Argentina          6\n",
      "1   92   92   35    Portugal        122\n",
      "2   91   93   27    Slovenia        137\n",
      "3   91   91   29     Belgium         14\n",
      "4   91   91   28      Brazil         20\n",
      "       OVA  POT  Age  Nat_label\n",
      "0       93   93   33          6\n",
      "1       92   92   35        122\n",
      "2       91   93   27        137\n",
      "3       91   91   29         14\n",
      "4       91   91   28         20\n",
      "...    ...  ...  ...        ...\n",
      "18974   47   55   21         30\n",
      "18975   47   67   17         47\n",
      "18976   47   65   18         47\n",
      "18977   47   57   20         30\n",
      "18978   47   57   21         30\n",
      "\n",
      "[17920 rows x 4 columns]\n",
      "Model equation: [ 6.42367116e+05  1.53786902e+05 -3.21688670e+05 -6.45881041e+00] * X + -42198505.88496359\n"
     ]
    }
   ],
   "source": [
    "#Create model based on 4 features - overall rating, potential, age and nationality of player\n",
    "\n",
    "# We have to convert the nationalities into numbers, as linear regression doesn't deal with strings (label encoding)\n",
    "\n",
    "# Create Label Encoder object\n",
    "le = LabelEncoder()\n",
    "# Label encode nationality column and save values at label\n",
    "label = le.fit_transform(fifa_df[\"Nationality\"])\n",
    "# Create new column called nationality based on label values\n",
    "fifa_df[\"Nat_label\"] = label\n",
    "\n",
    "# Print table with nationality & label \n",
    "print(fifa_df[[\"OVA\",\"POT\",\"Age\",\"Nationality\",\"Nat_label\"]].head(5))\n",
    "# Create training set\n",
    "training_set = fifa_df[[\"OVA\",\"POT\",\"Age\",\"Nat_label\"]]\n",
    "print(training_set)\n",
    "\n",
    "# Create linear regression object\n",
    "model = LinearRegression()\n",
    "# Train our model\n",
    "model.fit(training_set.values,fifa_df[\"Value\"])\n",
    "# Print equation of slope\n",
    "print(f\"Model equation: {model.coef_} * X + {model.intercept_}\")"
   ]
  },
  {
   "cell_type": "code",
   "execution_count": 6,
   "id": "3f5a46b1-5280-466d-907d-edc779209576",
   "metadata": {},
   "outputs": [
    {
     "name": "stdout",
     "output_type": "stream",
     "text": [
      "Predicted price for player: 2533807€\n",
      "Cost of our model: 38939134059766.43\n"
     ]
    }
   ],
   "source": [
    "# We predict price players with same skillset but different nationalities based on data we set\n",
    "\n",
    "# Set arbitrary attributes to test our model\n",
    "OVA = 60\n",
    "POT = 80\n",
    "Age = 19\n",
    "Nat = 90\n",
    "features = np.array([[OVA,POT,Age,Nat]])\n",
    "print(f\"Predicted price for player: {round(model.predict(features)[0])}€\")\n",
    "print(f'Cost of our model: {mean_squared_error(fifa_df[\"Value\"],model.predict(training_set.values))}')"
   ]
  },
  {
   "cell_type": "code",
   "execution_count": 7,
   "id": "ac9509a1-6715-4e9f-91c5-34f26e58d67d",
   "metadata": {},
   "outputs": [
    {
     "name": "stdout",
     "output_type": "stream",
     "text": [
      "          Nationality  Nat_label  count\n",
      "0             England         47   1574\n",
      "1             Germany         58   1178\n",
      "2               Spain        140   1019\n",
      "3              France         54    971\n",
      "4           Argentina          6    861\n",
      "..                ...        ...    ...\n",
      "157       Puerto Rico        123      1\n",
      "158         Korea DPR         83      1\n",
      "159  Papua New Guinea        117      1\n",
      "160            Malawi         95      1\n",
      "161             Malta         98      1\n",
      "\n",
      "[162 rows x 3 columns]\n",
      "      Nationality  Nat_label  count      Price\n",
      "0         England         47   1574  2534084.9\n",
      "1         Germany         58   1178  2534013.9\n",
      "2           Spain        140   1019  2533484.2\n",
      "3          France         54    971  2534039.7\n",
      "4       Argentina          6    861  2534349.7\n",
      "5          Brazil         20    821  2534259.3\n",
      "6           Japan         79    463  2533878.2\n",
      "7     Netherlands        107    435  2533697.4\n",
      "8           Italy         76    382  2533897.6\n",
      "9          Sweden        142    367  2533471.3\n",
      "10       China PR         30    358  2534194.7\n",
      "11  United States        155    351  2533387.4\n",
      "12         Poland        121    349  2533607.0\n",
      "13         Norway        114    345  2533652.2\n",
      "14       Portugal        122    344  2533600.5\n"
     ]
    }
   ],
   "source": [
    "# In order to represent nationality-price pairs based on the frequency of nationalities, we have to make the following table:\n",
    "\n",
    "# Sort nationality based on frequency\n",
    "Nat_plus_label = fifa_df[[\"Nationality\",\"Nat_label\"]].value_counts().reset_index()\n",
    "# Get unique nationality-label pairs\n",
    "Nat_plus_label = Nat_plus_label.drop_duplicates()\n",
    "prices = []\n",
    "print(Nat_plus_label)\n",
    "# Repeat as many iterations as there are unique countries\n",
    "# Get price for player with same skillset but different country & add it to prices array\n",
    "for n in range(Nat_plus_label.shape[0]):\n",
    "    features[0][3] = Nat_plus_label[\"Nat_label\"].iloc[n]\n",
    "    player_price = np.round(model.predict(features)[0],1)\n",
    "    prices.append(player_price)\n",
    "\n",
    "# Add price values for our dataset\n",
    "Nat_plus_label[\"Price\"] = np.array(prices).tolist()\n",
    "# Represent top 15 nations\n",
    "top_nats = Nat_plus_label.head(15)\n",
    "print(top_nats)"
   ]
  },
  {
   "cell_type": "code",
   "execution_count": 8,
   "id": "65c9f8e4-08d2-46f5-b193-e8d85ed78305",
   "metadata": {},
   "outputs": [
    {
     "data": {
      "image/png": "[encoded data removed]",
      "text/plain": [
       "<Figure size 1600x600 with 1 Axes>"
      ]
     },
     "metadata": {},
     "output_type": "display_data"
    }
   ],
   "source": [
    "#Plot results\n",
    "plt.figure(figsize=(16,6))\n",
    "plt.scatter(top_nats[\"Nationality\"],top_nats[\"Price\"]/1e6,c=\"red\",label=f\"Worth of player with\\nRating:{OVA}\\nAge:{Age}\\nPotential:{POT}\")\n",
    "plt.title(\"Players' price for top nationalities\")\n",
    "plt.xlabel(\"Nationality\", fontweight=\"bold\",fontsize=15)\n",
    "plt.ylabel(\"Price (Million €)\", fontweight=\"bold\",fontsize=15)\n",
    "\n",
    "plt.legend()\n",
    "plt.show()"
   ]
  },
  {
   "cell_type": "code",
   "execution_count": null,
   "id": "e87ba8cd-8ea4-4bea-8159-9761b755e9c4",
   "metadata": {},
   "outputs": [],
   "source": []
  }
 ],
 "metadata": {
  "kernelspec": {
   "display_name": "Python 3 (ipykernel)",
   "language": "python",
   "name": "python3"
  },
  "language_info": {
   "codemirror_mode": {
    "name": "ipython",
    "version": 3
   },
   "file_extension": ".py",
   "mimetype": "text/x-python",
   "name": "python",
   "nbconvert_exporter": "python",
   "pygments_lexer": "ipython3",
   "version": "3.11.5"
  }
 },
 "nbformat": 4,
 "nbformat_minor": 5
}
